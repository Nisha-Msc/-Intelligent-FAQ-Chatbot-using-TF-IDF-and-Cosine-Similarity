{
 "cells": [
  {
   "cell_type": "code",
   "execution_count": 16,
   "id": "1138ab13-8e77-45ba-9ef2-29427e58607b",
   "metadata": {},
   "outputs": [
    {
     "name": "stdout",
     "output_type": "stream",
     "text": [
      "Tkinter is installed!\n"
     ]
    }
   ],
   "source": [
    "import tkinter\n",
    "print(\"Tkinter is installed!\")\n"
   ]
  },
  {
   "cell_type": "code",
   "execution_count": null,
   "id": "aef24430-51dd-4302-a835-e2445f9ad78c",
   "metadata": {},
   "outputs": [],
   "source": [
    "import tkinter as tk\n",
    "from sklearn.feature_extraction.text import TfidfVectorizer\n",
    "from sklearn.metrics.pairwise import cosine_similarity\n",
    "import pandas as pd\n",
    "import numpy as np\n",
    "\n",
    "# Load the FAQ dataset from CSV\n",
    "faq_data = pd.read_csv(\"C:\\\\Users\\\\Administrator\\\\Desktop\\\\faq_data.csv\")\n",
    "\n",
    "# Initialize the TF-IDF Vectorizer\n",
    "vectorizer = TfidfVectorizer(stop_words='english')\n",
    "tfidf_matrix = vectorizer.fit_transform(faq_data['Question'])\n",
    "\n",
    "# Chatbot response function\n",
    "def chatbot_response(user_query):\n",
    "    user_query = user_query.lower()  # Convert to lowercase for consistency\n",
    "    user_vector = vectorizer.transform([user_query])  # Transform user query to vector\n",
    "    similarities = cosine_similarity(user_vector, tfidf_matrix)  # Compute cosine similarities\n",
    "    best_match_index = np.argmax(similarities)  # Get the best match index\n",
    "    confidence = similarities[0, best_match_index]  # Get the similarity score\n",
    "\n",
    "    if confidence > 0.3:  # Confidence threshold for matching\n",
    "        return faq_data.iloc[best_match_index]['Answer']\n",
    "    else:\n",
    "        return \"Sorry, I couldn't find an answer to that question.\"\n",
    "\n",
    "# Tkinter GUI for chatbot\n",
    "def ask_question():\n",
    "    user_query = query_entry.get(\"1.0\", tk.END).strip()  # Get user query\n",
    "    response = chatbot_response(user_query)  # Get chatbot response\n",
    "    response_label.config(text=response)  # Update response label with chatbot's answer\n",
    "\n",
    "# Create the Tkinter GUI\n",
    "root = tk.Tk()\n",
    "root.title(\"AI Chatbot\")\n",
    "\n",
    "tk.Label(root, text=\"Ask your question:\").pack(pady=5)\n",
    "query_entry = tk.Text(root, height=5, width=50)  # Input field for user queries\n",
    "query_entry.pack(pady=5)\n",
    "tk.Button(root, text=\"Submit\", command=ask_question).pack(pady=5)  # Button to submit query\n",
    "response_label = tk.Label(root, text=\"\", wraplength=400, justify=\"left\")  # Label for chatbot responses\n",
    "response_label.pack(pady=10)\n",
    "\n",
    "root.mainloop()\n"
   ]
  },
  {
   "cell_type": "code",
   "execution_count": null,
   "id": "775ef127-9bcb-4fb6-bbe1-9186ecd31a95",
   "metadata": {},
   "outputs": [],
   "source": []
  }
 ],
 "metadata": {
  "kernelspec": {
   "display_name": "Python 3 (ipykernel)",
   "language": "python",
   "name": "python3"
  },
  "language_info": {
   "codemirror_mode": {
    "name": "ipython",
    "version": 3
   },
   "file_extension": ".py",
   "mimetype": "text/x-python",
   "name": "python",
   "nbconvert_exporter": "python",
   "pygments_lexer": "ipython3",
   "version": "3.12.7"
  }
 },
 "nbformat": 4,
 "nbformat_minor": 5
}
